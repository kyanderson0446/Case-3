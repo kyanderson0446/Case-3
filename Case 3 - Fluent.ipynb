{
 "cells": [
  {
   "metadata": {},
   "cell_type": "markdown",
   "source": [
    "# Case 3 - Fluent.io\n",
    "* Kyle Anderson"
   ],
   "id": "cd2da0eb669df4ca"
  },
  {
   "metadata": {},
   "cell_type": "markdown",
   "source": [
    "## Problem:\n",
    "* Fluent has found that their language learning app is price inelastic, which means users are less sensitive to price changes. This means that Fluent has the ability to capture more revenue by increasing prices from their current Plus 6.99/month plan. However, there is no long going to be a singular price. The proposed packages are Basic (7.99/month), Pro (9.99/month) and Premium $16.99/month). Within these packages are varying features that will be more customized to users who want more or less features within the app. The goal of these three tiers are to retain their customer base but take advantage of their price insensitive users and capture more revenue or Average Revenue per User."
   ],
   "id": "b124c13553b77a4a"
  },
  {
   "metadata": {},
   "cell_type": "markdown",
   "source": "## Technical Goal:",
   "id": "43017421667dc5c0"
  },
  {
   "metadata": {},
   "cell_type": "markdown",
   "source": "* The technical goal of the case, is to run a A/B/C/D test to evaluate the impact of three new pricing tiers. We are using on Average Revenue Per User (ARPU) to measure the outcome because it captures both conversion rates and customer spending to view the impact on revenue.",
   "id": "350ff02a9be8e71d"
  },
  {
   "metadata": {},
   "cell_type": "markdown",
   "source": "## Load Packages",
   "id": "74fffb1512371a13"
  },
  {
   "metadata": {
    "ExecuteTime": {
     "end_time": "2024-09-08T20:14:42.039125Z",
     "start_time": "2024-09-08T20:14:40.477778Z"
    }
   },
   "cell_type": "code",
   "source": [
    "import pandas as pd\n",
    "import numpy as np\n",
    "import matplotlib.pyplot as plt\n",
    "import sklearn\n",
    "import scipy.stats as stats\n",
    "from scipy.stats import norm\n",
    "from math import sqrt\n",
    "import warnings"
   ],
   "id": "b7eae48d2512c8e7",
   "outputs": [],
   "execution_count": 1
  },
  {
   "metadata": {},
   "cell_type": "markdown",
   "source": "## Load Data",
   "id": "bdcbaa7724553089"
  },
  {
   "metadata": {
    "ExecuteTime": {
     "end_time": "2024-09-08T20:14:43.791767Z",
     "start_time": "2024-09-08T20:14:42.040139Z"
    }
   },
   "cell_type": "code",
   "source": [
    "fluent_hist = fr'https://raw.githubusercontent.com/jefftwebb/data/main/fluent_historical.csv'\n",
    "fluent_df = pd.read_csv(fluent_hist, index_col=False)\n",
    "\n",
    "fluent_dict = fr'https://raw.githubusercontent.com/jefftwebb/data/main/fluent_historical_dictionary.csv'\n",
    "fluent_dict_df = pd.read_csv(fluent_dict, index_col=False)"
   ],
   "id": "e7ca0cd9d118f7ba",
   "outputs": [],
   "execution_count": 2
  },
  {
   "metadata": {
    "ExecuteTime": {
     "end_time": "2024-09-08T20:14:43.794715Z",
     "start_time": "2024-09-08T20:14:43.791767Z"
    }
   },
   "cell_type": "code",
   "source": "### Inspect Dictionary for Context",
   "id": "abc7aa041fea795e",
   "outputs": [],
   "execution_count": 3
  },
  {
   "metadata": {
    "ExecuteTime": {
     "end_time": "2024-09-08T20:14:43.806762Z",
     "start_time": "2024-09-08T20:14:43.794715Z"
    }
   },
   "cell_type": "code",
   "source": "fluent_dict_df.head(10)",
   "id": "c317ccd1d169c5e6",
   "outputs": [
    {
     "data": {
      "text/plain": [
       "      variable       type                                        description\n",
       "0  customer_id  character               Unique identifier for each customer.\n",
       "1         plan  character          Type of subscription plan (free or paid).\n",
       "2         date       date  The transaction date.  For free subscriptions ...\n",
       "3         paid    integer  The amount spent on either the monthly subscri...\n",
       "4         type  character  The type of trasnaction:  subscription or purc..."
      ],
      "text/html": [
       "<div>\n",
       "<style scoped>\n",
       "    .dataframe tbody tr th:only-of-type {\n",
       "        vertical-align: middle;\n",
       "    }\n",
       "\n",
       "    .dataframe tbody tr th {\n",
       "        vertical-align: top;\n",
       "    }\n",
       "\n",
       "    .dataframe thead th {\n",
       "        text-align: right;\n",
       "    }\n",
       "</style>\n",
       "<table border=\"1\" class=\"dataframe\">\n",
       "  <thead>\n",
       "    <tr style=\"text-align: right;\">\n",
       "      <th></th>\n",
       "      <th>variable</th>\n",
       "      <th>type</th>\n",
       "      <th>description</th>\n",
       "    </tr>\n",
       "  </thead>\n",
       "  <tbody>\n",
       "    <tr>\n",
       "      <th>0</th>\n",
       "      <td>customer_id</td>\n",
       "      <td>character</td>\n",
       "      <td>Unique identifier for each customer.</td>\n",
       "    </tr>\n",
       "    <tr>\n",
       "      <th>1</th>\n",
       "      <td>plan</td>\n",
       "      <td>character</td>\n",
       "      <td>Type of subscription plan (free or paid).</td>\n",
       "    </tr>\n",
       "    <tr>\n",
       "      <th>2</th>\n",
       "      <td>date</td>\n",
       "      <td>date</td>\n",
       "      <td>The transaction date.  For free subscriptions ...</td>\n",
       "    </tr>\n",
       "    <tr>\n",
       "      <th>3</th>\n",
       "      <td>paid</td>\n",
       "      <td>integer</td>\n",
       "      <td>The amount spent on either the monthly subscri...</td>\n",
       "    </tr>\n",
       "    <tr>\n",
       "      <th>4</th>\n",
       "      <td>type</td>\n",
       "      <td>character</td>\n",
       "      <td>The type of trasnaction:  subscription or purc...</td>\n",
       "    </tr>\n",
       "  </tbody>\n",
       "</table>\n",
       "</div>"
      ]
     },
     "execution_count": 4,
     "metadata": {},
     "output_type": "execute_result"
    }
   ],
   "execution_count": 4
  },
  {
   "metadata": {},
   "cell_type": "markdown",
   "source": "### Inspect Fluent Historical Data",
   "id": "74e38d22de40a336"
  },
  {
   "metadata": {
    "ExecuteTime": {
     "end_time": "2024-09-08T20:14:43.812992Z",
     "start_time": "2024-09-08T20:14:43.807767Z"
    }
   },
   "cell_type": "code",
   "source": [
    "fluent_df.tail()\n",
    "# We see customer_id, current plan, payments made and when, and the type of transaction"
   ],
   "id": "7ce86c23e65c2051",
   "outputs": [
    {
     "data": {
      "text/plain": [
       "      customer_id  plan        date  paid          type\n",
       "86223      EZ6513  paid  2023-12-25  6.99  subscription\n",
       "86224      VL6409  paid  2023-12-28  6.99  subscription\n",
       "86225     DL66338  paid  2023-12-30  6.99  subscription\n",
       "86226     IK61234  paid  2023-12-30  6.99  subscription\n",
       "86227     LD43645  paid  2023-12-31  6.99  subscription"
      ],
      "text/html": [
       "<div>\n",
       "<style scoped>\n",
       "    .dataframe tbody tr th:only-of-type {\n",
       "        vertical-align: middle;\n",
       "    }\n",
       "\n",
       "    .dataframe tbody tr th {\n",
       "        vertical-align: top;\n",
       "    }\n",
       "\n",
       "    .dataframe thead th {\n",
       "        text-align: right;\n",
       "    }\n",
       "</style>\n",
       "<table border=\"1\" class=\"dataframe\">\n",
       "  <thead>\n",
       "    <tr style=\"text-align: right;\">\n",
       "      <th></th>\n",
       "      <th>customer_id</th>\n",
       "      <th>plan</th>\n",
       "      <th>date</th>\n",
       "      <th>paid</th>\n",
       "      <th>type</th>\n",
       "    </tr>\n",
       "  </thead>\n",
       "  <tbody>\n",
       "    <tr>\n",
       "      <th>86223</th>\n",
       "      <td>EZ6513</td>\n",
       "      <td>paid</td>\n",
       "      <td>2023-12-25</td>\n",
       "      <td>6.99</td>\n",
       "      <td>subscription</td>\n",
       "    </tr>\n",
       "    <tr>\n",
       "      <th>86224</th>\n",
       "      <td>VL6409</td>\n",
       "      <td>paid</td>\n",
       "      <td>2023-12-28</td>\n",
       "      <td>6.99</td>\n",
       "      <td>subscription</td>\n",
       "    </tr>\n",
       "    <tr>\n",
       "      <th>86225</th>\n",
       "      <td>DL66338</td>\n",
       "      <td>paid</td>\n",
       "      <td>2023-12-30</td>\n",
       "      <td>6.99</td>\n",
       "      <td>subscription</td>\n",
       "    </tr>\n",
       "    <tr>\n",
       "      <th>86226</th>\n",
       "      <td>IK61234</td>\n",
       "      <td>paid</td>\n",
       "      <td>2023-12-30</td>\n",
       "      <td>6.99</td>\n",
       "      <td>subscription</td>\n",
       "    </tr>\n",
       "    <tr>\n",
       "      <th>86227</th>\n",
       "      <td>LD43645</td>\n",
       "      <td>paid</td>\n",
       "      <td>2023-12-31</td>\n",
       "      <td>6.99</td>\n",
       "      <td>subscription</td>\n",
       "    </tr>\n",
       "  </tbody>\n",
       "</table>\n",
       "</div>"
      ]
     },
     "execution_count": 5,
     "metadata": {},
     "output_type": "execute_result"
    }
   ],
   "execution_count": 5
  },
  {
   "metadata": {
    "ExecuteTime": {
     "end_time": "2024-09-08T20:14:43.818807Z",
     "start_time": "2024-09-08T20:14:43.812992Z"
    }
   },
   "cell_type": "code",
   "source": [
    "# Show all types of transactions\n",
    "print('Unique transaction event types')\n",
    "print(fluent_df['type'].unique())"
   ],
   "id": "7417ca228c490de3",
   "outputs": [
    {
     "name": "stdout",
     "output_type": "stream",
     "text": [
      "Unique transaction event types\n",
      "['purchase' 'subscription']\n"
     ]
    }
   ],
   "execution_count": 6
  },
  {
   "metadata": {
    "ExecuteTime": {
     "end_time": "2024-09-08T20:14:43.823538Z",
     "start_time": "2024-09-08T20:14:43.818807Z"
    }
   },
   "cell_type": "code",
   "source": [
    "# Show all types of plans\n",
    "print('Unique plans')\n",
    "print(fluent_df['plan'].unique())"
   ],
   "id": "48bde4d9f8e7ef4",
   "outputs": [
    {
     "name": "stdout",
     "output_type": "stream",
     "text": [
      "Unique plans\n",
      "['paid' 'free']\n"
     ]
    }
   ],
   "execution_count": 7
  },
  {
   "metadata": {},
   "cell_type": "markdown",
   "source": [
    "## Question 1:\n",
    "#### To Measure Conversion\n",
    "* All customers start on the free plan when they register for the app and have the option to upgrade to paid, which is known as a conversion. Both plans, free and paid, offer in-app purchases for additional services."
   ],
   "id": "fa1616352863a43b"
  },
  {
   "metadata": {
    "ExecuteTime": {
     "end_time": "2024-09-08T20:14:43.843055Z",
     "start_time": "2024-09-08T20:14:43.823538Z"
    }
   },
   "cell_type": "code",
   "source": [
    "df_f = fluent_df.copy()\n",
    "\n",
    "plan_counts = df_f['plan'].value_counts()\n",
    "print('Unique plan counts')\n",
    "print(plan_counts)\n",
    "print()\n",
    "\n",
    "total_plans = len(df_f['plan'])\n",
    "print('Unique total plans')\n",
    "print(total_plans)\n",
    "\n",
    "paid_ratio = df_f[df_f['plan']=='paid'].shape[0] / total_plans\n",
    "print('Paid ratio')\n",
    "print(round(paid_ratio, 2))\n",
    "free_ratio = df_f[df_f['plan']=='free'].shape[0] / total_plans\n",
    "print('Free ratio')\n",
    "print(round(free_ratio, 2))"
   ],
   "id": "85ad9c390ed609c1",
   "outputs": [
    {
     "name": "stdout",
     "output_type": "stream",
     "text": [
      "Unique plan counts\n",
      "plan\n",
      "paid    55604\n",
      "free    30624\n",
      "Name: count, dtype: int64\n",
      "\n",
      "Unique total plans\n",
      "86228\n",
      "Paid ratio\n",
      "0.64\n",
      "Free ratio\n",
      "0.36\n"
     ]
    }
   ],
   "execution_count": 8
  },
  {
   "metadata": {},
   "cell_type": "markdown",
   "source": "### To get true conversion, we need to find the users who went from free to paid",
   "id": "682699c9535d1214"
  },
  {
   "metadata": {
    "ExecuteTime": {
     "end_time": "2024-09-08T20:14:44.534280Z",
     "start_time": "2024-09-08T20:14:43.843055Z"
    }
   },
   "cell_type": "code",
   "source": [
    "warnings.filterwarnings(\"ignore\", category=DeprecationWarning)\n",
    "\n",
    "\n",
    "def check_conversion(group):\n",
    "    if 'free' in group['plan'].values and 'paid' in group['plan'].values:\n",
    "        return 1\n",
    "    return 0\n",
    "\n",
    "df_f['converted'] = df_f.groupby('customer_id').apply(check_conversion).reset_index(drop=True)\n",
    "\n",
    "total_free_users = df_f[df_f['plan'] == 'free']['customer_id'].nunique()\n",
    "total_converted_users = df_f[df_f['converted'] == 1]['customer_id'].nunique() # Users converted from free to paid\n",
    "\n",
    "conversion_rate = total_converted_users / total_free_users\n",
    "conversion_rate = round(conversion_rate, 2)\n",
    "\n",
    "print(f\"Total Free Users\")\n",
    "print(total_free_users)\n",
    "print(f\"Total Converted Users\")\n",
    "print(total_converted_users)\n",
    "print(f\"Conversion Rate\")\n",
    "print(conversion_rate)\n",
    "\n",
    "# The answer is that NONE of the people in the data converted from free to paid"
   ],
   "id": "380c71d4255096cb",
   "outputs": [
    {
     "name": "stdout",
     "output_type": "stream",
     "text": [
      "Total Free Users\n",
      "24111\n",
      "Total Converted Users\n",
      "0\n",
      "Conversion Rate\n",
      "0.0\n"
     ]
    }
   ],
   "execution_count": 9
  },
  {
   "metadata": {
    "ExecuteTime": {
     "end_time": "2024-09-08T20:14:44.538949Z",
     "start_time": "2024-09-08T20:14:44.534280Z"
    }
   },
   "cell_type": "code",
   "source": [
    "np.random.seed(93)\n",
    "# sample\n",
    "n = 1000\n",
    "# 20% conversion\n",
    "conversion_prob_1 = 0.2\n",
    "# 5% conversion for a more conservative approach\n",
    "conversion_prob_2 = 0.05\n",
    "sim_spend = 10\n",
    "sim_std = 2 # low variability\n",
    "# spending_mean = df_f['paid'].mean()\n",
    "# print(spending_mean)\n",
    "# spending_std = df_f['paid'].std()\n",
    "# print(spending_std)\n",
    "\n",
    "\n",
    "def simulate_arpu(conversion_prob, n, sim_spend, sim_std):\n",
    "    conversions = np.random.binomial(1, conversion_prob, n)\n",
    "    # random spending\n",
    "    spending = np.random.normal(sim_spend, sim_std, n)\n",
    "    # ARPU\n",
    "    arpu = np.mean(conversions * spending)\n",
    "    return arpu\n",
    "\n",
    "\n",
    "arpu_1 = simulate_arpu(conversion_prob_1, n, sim_spend, sim_std)\n",
    "arpu_2 = simulate_arpu(conversion_prob_2, n, sim_spend, sim_std)\n",
    "\n",
    "\n",
    "print(fr\"ARPU with {round(conversion_prob_1,2)*100}% conversion rate: ${arpu_1:.2f}\")\n",
    "print(fr\"ARPU with {round(conversion_prob_2,2)*100}% conversion rate: ${arpu_2:.2f}\")\n"
   ],
   "id": "3daf58e304a9ef22",
   "outputs": [
    {
     "name": "stdout",
     "output_type": "stream",
     "text": [
      "ARPU with 20.0% conversion rate: $1.86\n",
      "ARPU with 5.0% conversion rate: $0.55\n"
     ]
    }
   ],
   "execution_count": 10
  },
  {
   "metadata": {},
   "cell_type": "markdown",
   "source": [
    "## Answer 1\n",
    "* As shown, more conversion means more ARPU as it is a linear scale. I chose to go more conservative on the conversion to show a worst case scenario. However, using the actual mean spend and standard deviation shows higher ARPU. The actual mean and standard deviation are 13 and 20. This standard deviation shows high variability and differences in spend in the individuals which further supports the case for tiered pricing."
   ],
   "id": "55a827f3f69a7e4f"
  },
  {
   "metadata": {},
   "cell_type": "markdown",
   "source": [
    "## Question 2\n",
    "* Get 2022 data, monthy stdv revenue per user (SDRPU)"
   ],
   "id": "b8f603ce33a323b2"
  },
  {
   "metadata": {},
   "cell_type": "markdown",
   "source": "#### Get 2022 data",
   "id": "93396b742d80dafb"
  },
  {
   "metadata": {
    "ExecuteTime": {
     "end_time": "2024-09-08T20:14:44.555311Z",
     "start_time": "2024-09-08T20:14:44.539954Z"
    }
   },
   "cell_type": "code",
   "source": [
    "warnings.filterwarnings(\"ignore\")\n",
    "df_f['year'] = pd.to_datetime(df_f['date'], errors='coerce')\n",
    "df_f22 = df_f[df_f['year'].dt.year == 2022]\n",
    "df_f22['year'] = 2022"
   ],
   "id": "6b7a9be0f786208e",
   "outputs": [],
   "execution_count": 11
  },
  {
   "metadata": {},
   "cell_type": "markdown",
   "source": "#### Get monthy SDRPU",
   "id": "ee7c4be25669e75c"
  },
  {
   "metadata": {
    "ExecuteTime": {
     "end_time": "2024-09-08T20:14:44.599986Z",
     "start_time": "2024-09-08T20:14:44.556316Z"
    }
   },
   "cell_type": "code",
   "source": [
    "warnings.filterwarnings(\"ignore\")\n",
    "\n",
    "df_f22['date'] = pd.to_datetime(df_f22['date'], errors='coerce')\n",
    "df_f22['month'] = df_f22['date'].dt.to_period('M')\n",
    "# Get monthy revenue and signify customer as that will capture the mean and variability\n",
    "month_rev = df_f22.groupby(['customer_id','month'])['paid'].sum().reset_index()\n",
    "print(\"Monthly revenue per customer\")\n",
    "print(month_rev.head(2))\n",
    "print()\n",
    "monthly_stats = month_rev.groupby('month').agg(ARPU=('paid', 'mean'),SDRPU=('paid', 'std')).reset_index()\n",
    "monthly_stats.head(13)"
   ],
   "id": "3948c1b5a477dfb4",
   "outputs": [
    {
     "name": "stdout",
     "output_type": "stream",
     "text": [
      "Monthly revenue per customer\n",
      "  customer_id    month  paid\n",
      "0     AA11573  2022-07  6.99\n",
      "1     AA11573  2022-08  6.99\n",
      "\n"
     ]
    },
    {
     "data": {
      "text/plain": [
       "      month       ARPU      SDRPU\n",
       "0   2022-01  19.701100  29.423394\n",
       "1   2022-02  18.917938  27.852079\n",
       "2   2022-03  18.045778  27.403972\n",
       "3   2022-04  16.717551  26.085455\n",
       "4   2022-05  16.789353  25.879768\n",
       "5   2022-06  16.126559  25.133832\n",
       "6   2022-07  15.790107  24.759608\n",
       "7   2022-08  16.052698  25.189190\n",
       "8   2022-09  15.334967  24.231893\n",
       "9   2022-10  15.931247  24.901931\n",
       "10  2022-11  14.748592  23.677972\n",
       "11  2022-12  15.212789  24.086971"
      ],
      "text/html": [
       "<div>\n",
       "<style scoped>\n",
       "    .dataframe tbody tr th:only-of-type {\n",
       "        vertical-align: middle;\n",
       "    }\n",
       "\n",
       "    .dataframe tbody tr th {\n",
       "        vertical-align: top;\n",
       "    }\n",
       "\n",
       "    .dataframe thead th {\n",
       "        text-align: right;\n",
       "    }\n",
       "</style>\n",
       "<table border=\"1\" class=\"dataframe\">\n",
       "  <thead>\n",
       "    <tr style=\"text-align: right;\">\n",
       "      <th></th>\n",
       "      <th>month</th>\n",
       "      <th>ARPU</th>\n",
       "      <th>SDRPU</th>\n",
       "    </tr>\n",
       "  </thead>\n",
       "  <tbody>\n",
       "    <tr>\n",
       "      <th>0</th>\n",
       "      <td>2022-01</td>\n",
       "      <td>19.701100</td>\n",
       "      <td>29.423394</td>\n",
       "    </tr>\n",
       "    <tr>\n",
       "      <th>1</th>\n",
       "      <td>2022-02</td>\n",
       "      <td>18.917938</td>\n",
       "      <td>27.852079</td>\n",
       "    </tr>\n",
       "    <tr>\n",
       "      <th>2</th>\n",
       "      <td>2022-03</td>\n",
       "      <td>18.045778</td>\n",
       "      <td>27.403972</td>\n",
       "    </tr>\n",
       "    <tr>\n",
       "      <th>3</th>\n",
       "      <td>2022-04</td>\n",
       "      <td>16.717551</td>\n",
       "      <td>26.085455</td>\n",
       "    </tr>\n",
       "    <tr>\n",
       "      <th>4</th>\n",
       "      <td>2022-05</td>\n",
       "      <td>16.789353</td>\n",
       "      <td>25.879768</td>\n",
       "    </tr>\n",
       "    <tr>\n",
       "      <th>5</th>\n",
       "      <td>2022-06</td>\n",
       "      <td>16.126559</td>\n",
       "      <td>25.133832</td>\n",
       "    </tr>\n",
       "    <tr>\n",
       "      <th>6</th>\n",
       "      <td>2022-07</td>\n",
       "      <td>15.790107</td>\n",
       "      <td>24.759608</td>\n",
       "    </tr>\n",
       "    <tr>\n",
       "      <th>7</th>\n",
       "      <td>2022-08</td>\n",
       "      <td>16.052698</td>\n",
       "      <td>25.189190</td>\n",
       "    </tr>\n",
       "    <tr>\n",
       "      <th>8</th>\n",
       "      <td>2022-09</td>\n",
       "      <td>15.334967</td>\n",
       "      <td>24.231893</td>\n",
       "    </tr>\n",
       "    <tr>\n",
       "      <th>9</th>\n",
       "      <td>2022-10</td>\n",
       "      <td>15.931247</td>\n",
       "      <td>24.901931</td>\n",
       "    </tr>\n",
       "    <tr>\n",
       "      <th>10</th>\n",
       "      <td>2022-11</td>\n",
       "      <td>14.748592</td>\n",
       "      <td>23.677972</td>\n",
       "    </tr>\n",
       "    <tr>\n",
       "      <th>11</th>\n",
       "      <td>2022-12</td>\n",
       "      <td>15.212789</td>\n",
       "      <td>24.086971</td>\n",
       "    </tr>\n",
       "  </tbody>\n",
       "</table>\n",
       "</div>"
      ]
     },
     "execution_count": 12,
     "metadata": {},
     "output_type": "execute_result"
    }
   ],
   "execution_count": 12
  },
  {
   "metadata": {},
   "cell_type": "markdown",
   "source": [
    "## Answer 2\n",
    "* Perhaps this study was started because of the declining ARPU. The variability remains high across all months but is not consistent."
   ],
   "id": "8c8d592c37466133"
  },
  {
   "metadata": {},
   "cell_type": "markdown",
   "source": [
    "## Question 3\n",
    "* Get sample size for ABCD test with MEI of 2 dollars and SDRPU of 24 dollars."
   ],
   "id": "c1cee354593b8313"
  },
  {
   "metadata": {
    "ExecuteTime": {
     "end_time": "2024-09-08T20:14:44.619292Z",
     "start_time": "2024-09-08T20:14:44.599986Z"
    }
   },
   "cell_type": "code",
   "source": [
    "# Get historical ARPU\n",
    "customer_revenue = df_f.groupby('customer_id')['paid'].sum().reset_index()\n",
    "total_arpu = customer_revenue['paid'].mean()\n",
    "print(\"Historical ARPU\")\n",
    "print(\"$\", round(total_arpu, 2))"
   ],
   "id": "fe9e6db3550fa787",
   "outputs": [
    {
     "name": "stdout",
     "output_type": "stream",
     "text": [
      "Historical ARPU\n",
      "$ 38.8\n"
     ]
    }
   ],
   "execution_count": 13
  },
  {
   "metadata": {
    "ExecuteTime": {
     "end_time": "2024-09-08T20:14:44.639772Z",
     "start_time": "2024-09-08T20:14:44.620307Z"
    }
   },
   "cell_type": "code",
   "source": [
    "# Get historical conversion rate, which shown above is 0 and 0%\n",
    "free_users = set(df_f[df_f['plan'] == 'free']['customer_id'])\n",
    "paid_users = set(df_f[df_f['plan'] == 'paid']['customer_id'])\n",
    "\n",
    "\n",
    "converted_users = free_users.intersection(paid_users)\n",
    "num_converted = len(converted_users)\n",
    "\n",
    "num_free_users = len(free_users)\n",
    "\n",
    "# conversion\n",
    "conversion_rate = (num_converted / num_free_users) * 100 if num_free_users > 0 else 0\n",
    "conversion_rate"
   ],
   "id": "b561e54f06175ba3",
   "outputs": [
    {
     "data": {
      "text/plain": [
       "0.0"
      ]
     },
     "execution_count": 14,
     "metadata": {},
     "output_type": "execute_result"
    }
   ],
   "execution_count": 14
  },
  {
   "metadata": {
    "ExecuteTime": {
     "end_time": "2024-09-08T20:16:18.708579Z",
     "start_time": "2024-09-08T20:16:18.704831Z"
    }
   },
   "cell_type": "code",
   "source": [
    "sdrpu = 24\n",
    "mei = 2\n",
    "# p2 = sdrpu + 2 # MEI\n",
    "alpha = 0.05 # set by assignment\n",
    "power = 0.8 # set by assignment\n",
    "\n",
    "# Z1alpha\n",
    "z_alpha = norm.ppf(1 - alpha/2) # 2 tail\n",
    "# Z1beta\n",
    "z_beta = norm.ppf(power)\n",
    "\n",
    "p_bar = (sdrpu + p2) / 2 # Pbar is the overall conversion rate\n",
    "\n",
    "# n = (((z_alpha * sqrt(2 * p_bar * (1 - p_bar))) + sqrt(sdrpu * (1 - sdrpu) + p2 * (1 - p2)) * z_beta)/ (p2 - sdrpu)) ** 2\n",
    "n = ((z_alpha + z_beta) ** 2 * sdrpu ** 2) / (mei ** 2)\n",
    "n_per_group = np.ceil(n)\n",
    "total_sample_size = int(n_per_group * 4)\n",
    "\n",
    "print(f\"Sample size required per group: {n_per_group}\")\n",
    "print(f\"Total sample size required: {total_sample_size}\")\n",
    "\n",
    "# Numpy ceiling to get whole customer\n",
    "# sample = np.ceil(n)\n",
    "# print(\"Sample Size:\")\n",
    "# sample"
   ],
   "id": "318c613f83170011",
   "outputs": [
    {
     "name": "stdout",
     "output_type": "stream",
     "text": [
      "Sample size required per group: 1131.0\n",
      "Total sample size required: 4524\n"
     ]
    }
   ],
   "execution_count": 17
  },
  {
   "metadata": {},
   "cell_type": "code",
   "source": "",
   "id": "7f904eae355c833b",
   "outputs": [],
   "execution_count": null
  }
 ],
 "metadata": {
  "kernelspec": {
   "display_name": "Python 3",
   "language": "python",
   "name": "python3"
  },
  "language_info": {
   "codemirror_mode": {
    "name": "ipython",
    "version": 2
   },
   "file_extension": ".py",
   "mimetype": "text/x-python",
   "name": "python",
   "nbconvert_exporter": "python",
   "pygments_lexer": "ipython2",
   "version": "2.7.6"
  }
 },
 "nbformat": 4,
 "nbformat_minor": 5
}
